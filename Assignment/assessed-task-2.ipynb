{
 "cells": [
  {
   "cell_type": "markdown",
   "metadata": {},
   "source": [
    "# Assessed Task 2 (Individual)\n",
    "* ## Traditional Machine Learning Models for Data Analysis\n",
    "* ## Worth 10% of your total marks"
   ]
  },
  {
   "cell_type": "markdown",
   "metadata": {},
   "source": [
    "## Submission Deadline: 11:55pm Wednesday 30th September 2020\n",
    "* ### Late Submission will incur the following penalties: 20% penalty (2 marks) for 1 to 24 hours late, 40% penalty (4 marks) for 24 to 48 hours late, and 100% penalty (no marks) for over 48 hours late (iLearn assignment submission automatically closes).  \n"
   ]
  },
  {
   "cell_type": "markdown",
   "metadata": {},
   "source": [
    "## Submission Instruction\n",
    "Submitted your completed tasks in iLearn, including both this Jupyter Notebook file and its pdf version before the submission deadline. Please write your full name and student ID in the following cells for marking."
   ]
  },
  {
   "cell_type": "markdown",
   "metadata": {},
   "source": [
    "**Surname**:"
   ]
  },
  {
   "cell_type": "markdown",
   "metadata": {},
   "source": [
    "**Given name**:"
   ]
  },
  {
   "cell_type": "markdown",
   "metadata": {},
   "source": [
    "**Student ID**:"
   ]
  },
  {
   "cell_type": "markdown",
   "metadata": {},
   "source": [
    "## Marking Criteria\n",
    "* #### All the required data analysis tasks have been reasonably accomplished. \n",
    "* #### The organisation, presentation and readability of the report \n",
    "* #### Appropriate justification of which you have chosen and what you have done in the data analysis process, as well as critical thinking and understanding on the related aspects of the machine learning methods\n",
    "* #### The quality of source code"
   ]
  },
  {
   "cell_type": "markdown",
   "metadata": {},
   "source": [
    "## Task Details\n",
    "Machine learning models have been widely adopted in medical and healthcare domains, e,g., many researchers made use of machine learning models to perform data analysis and prediction for the COVID-19 pandemic. In this task you are required to conduct data analysis on two healthcare related data sets with the corresponding machine learning models for regression, classification, and clustering.\n",
    "\n",
    "You are required to use the Python packages such as Pandas, Numpy, Scipy, and Scikit-learn to implement the data analysis programs. To apply the machine learning models, you might need to pre-process the original data sets by feature selection and extraction to cater for your machine learning models (I have done most of the pre-processing). These decision-makings should be justified in your report if any. Then, you need to split the data sets released to you into training and testing data sets, and use the training data sets to build your models and the testing data sets to test the learned models. Hyperparameters tuning using your preferred cross-validation methods (e.g., k-folds) and parameter space search methods should be performed where applicable with appropriate justification. To ensure the robustness of the performance indicators, the averaged results from multiple executions of model training should be used. Both quantitative and qualitative comparisons among different methods that can be applied to the same data analysis tasks are also expected. \n",
    "\n",
    "I have already performed some steps to show you some initial analysis. You could learn from these examples for your tasks.\n",
    "\n",
    "Data sets and the machine learning methods are detailed as follows, respectively."
   ]
  },
  {
   "cell_type": "markdown",
   "metadata": {},
   "source": [
    "### Description of Data Sets\n",
    "* We'll look at the most relevant dataset to our lives at the moment: the global spread of COVID-19. There is an open dataset avaialable that is updated often showing the number of cases in different regions of the world. The data is being made available by Johns Hopkins University in [this GitHub repository](https://github.com/CSSEGISandData/COVID-19). We're interestd in the global confirmed cases dataset but you can also get data on deaths and recovered cases. I have done the feature extraction from the original data series for the data analysis tasks.\n",
    "* The other dataset you will investigate is the Pima Indians Diabetes Dataset that comes originally from the National Institute of Diabetes and Digestive and Kidney Disease. The data is available in a single csv file but since it is real world data it contains a number of null values."
   ]
  },
  {
   "cell_type": "markdown",
   "metadata": {},
   "source": [
    "### Data Analysis Task\n",
    "|Dataset|Analysis Task|\n",
    "|:---|:---:|\n",
    "|COVID-19 data | Regression; Clustering |\n",
    "|Pima data | SVM for Classification; Random Forest Classification|"
   ]
  },
  {
   "cell_type": "markdown",
   "metadata": {},
   "source": [
    "#### Notes:  You could include more machine learning models, as well as more data sets if you wish. Refer to https://scikit-learn.org/stable/ for scikit-learn documentations"
   ]
  },
  {
   "cell_type": "markdown",
   "metadata": {},
   "source": [
    "## You are required to complete the task 1-10\n",
    "In each task, you are expected to write code and answer a question with detailed justification."
   ]
  },
  {
   "cell_type": "code",
   "execution_count": 1,
   "metadata": {},
   "outputs": [],
   "source": [
    "# Import the commonly-used Python packages\n",
    "import pandas as pd\n",
    "import numpy as np\n",
    "%matplotlib inline\n",
    "float_formatter = \"{:.4f}\".format\n",
    "np.set_printoptions(formatter={'float_kind':float_formatter})\n",
    "import warnings\n",
    "warnings.filterwarnings(\"ignore\", category=FutureWarning)"
   ]
  },
  {
   "cell_type": "markdown",
   "metadata": {},
   "source": [
    "### For COVID-19 data\n",
    "For this dataset, we will perform regression and clustering analysis."
   ]
  },
  {
   "cell_type": "code",
   "execution_count": 2,
   "metadata": {},
   "outputs": [
    {
     "data": {
      "text/html": [
       "<div>\n",
       "<style scoped>\n",
       "    .dataframe tbody tr th:only-of-type {\n",
       "        vertical-align: middle;\n",
       "    }\n",
       "\n",
       "    .dataframe tbody tr th {\n",
       "        vertical-align: top;\n",
       "    }\n",
       "\n",
       "    .dataframe thead th {\n",
       "        text-align: right;\n",
       "    }\n",
       "</style>\n",
       "<table border=\"1\" class=\"dataframe\">\n",
       "  <thead>\n",
       "    <tr style=\"text-align: right;\">\n",
       "      <th></th>\n",
       "      <th>Province/State</th>\n",
       "      <th>Country/Region</th>\n",
       "      <th>Lat</th>\n",
       "      <th>Long</th>\n",
       "      <th>1/22/20</th>\n",
       "      <th>1/23/20</th>\n",
       "      <th>1/24/20</th>\n",
       "      <th>1/25/20</th>\n",
       "      <th>1/26/20</th>\n",
       "      <th>1/27/20</th>\n",
       "      <th>...</th>\n",
       "      <th>8/19/20</th>\n",
       "      <th>8/20/20</th>\n",
       "      <th>8/21/20</th>\n",
       "      <th>8/22/20</th>\n",
       "      <th>8/23/20</th>\n",
       "      <th>8/24/20</th>\n",
       "      <th>8/25/20</th>\n",
       "      <th>8/26/20</th>\n",
       "      <th>8/27/20</th>\n",
       "      <th>8/28/20</th>\n",
       "    </tr>\n",
       "  </thead>\n",
       "  <tbody>\n",
       "    <tr>\n",
       "      <td>0</td>\n",
       "      <td>NaN</td>\n",
       "      <td>Afghanistan</td>\n",
       "      <td>33.93911</td>\n",
       "      <td>67.709953</td>\n",
       "      <td>0</td>\n",
       "      <td>0</td>\n",
       "      <td>0</td>\n",
       "      <td>0</td>\n",
       "      <td>0</td>\n",
       "      <td>0</td>\n",
       "      <td>...</td>\n",
       "      <td>37599</td>\n",
       "      <td>37856</td>\n",
       "      <td>37894</td>\n",
       "      <td>37953</td>\n",
       "      <td>37999</td>\n",
       "      <td>38054</td>\n",
       "      <td>38070</td>\n",
       "      <td>38113</td>\n",
       "      <td>38129</td>\n",
       "      <td>38140</td>\n",
       "    </tr>\n",
       "    <tr>\n",
       "      <td>1</td>\n",
       "      <td>NaN</td>\n",
       "      <td>Albania</td>\n",
       "      <td>41.15330</td>\n",
       "      <td>20.168300</td>\n",
       "      <td>0</td>\n",
       "      <td>0</td>\n",
       "      <td>0</td>\n",
       "      <td>0</td>\n",
       "      <td>0</td>\n",
       "      <td>0</td>\n",
       "      <td>...</td>\n",
       "      <td>7812</td>\n",
       "      <td>7967</td>\n",
       "      <td>8119</td>\n",
       "      <td>8275</td>\n",
       "      <td>8427</td>\n",
       "      <td>8605</td>\n",
       "      <td>8759</td>\n",
       "      <td>8927</td>\n",
       "      <td>9083</td>\n",
       "      <td>9195</td>\n",
       "    </tr>\n",
       "    <tr>\n",
       "      <td>2</td>\n",
       "      <td>NaN</td>\n",
       "      <td>Algeria</td>\n",
       "      <td>28.03390</td>\n",
       "      <td>1.659600</td>\n",
       "      <td>0</td>\n",
       "      <td>0</td>\n",
       "      <td>0</td>\n",
       "      <td>0</td>\n",
       "      <td>0</td>\n",
       "      <td>0</td>\n",
       "      <td>...</td>\n",
       "      <td>39847</td>\n",
       "      <td>40258</td>\n",
       "      <td>40667</td>\n",
       "      <td>41068</td>\n",
       "      <td>41460</td>\n",
       "      <td>41858</td>\n",
       "      <td>42228</td>\n",
       "      <td>42619</td>\n",
       "      <td>43016</td>\n",
       "      <td>43403</td>\n",
       "    </tr>\n",
       "    <tr>\n",
       "      <td>3</td>\n",
       "      <td>NaN</td>\n",
       "      <td>Andorra</td>\n",
       "      <td>42.50630</td>\n",
       "      <td>1.521800</td>\n",
       "      <td>0</td>\n",
       "      <td>0</td>\n",
       "      <td>0</td>\n",
       "      <td>0</td>\n",
       "      <td>0</td>\n",
       "      <td>0</td>\n",
       "      <td>...</td>\n",
       "      <td>1024</td>\n",
       "      <td>1024</td>\n",
       "      <td>1045</td>\n",
       "      <td>1045</td>\n",
       "      <td>1045</td>\n",
       "      <td>1060</td>\n",
       "      <td>1060</td>\n",
       "      <td>1098</td>\n",
       "      <td>1098</td>\n",
       "      <td>1124</td>\n",
       "    </tr>\n",
       "    <tr>\n",
       "      <td>4</td>\n",
       "      <td>NaN</td>\n",
       "      <td>Angola</td>\n",
       "      <td>-11.20270</td>\n",
       "      <td>17.873900</td>\n",
       "      <td>0</td>\n",
       "      <td>0</td>\n",
       "      <td>0</td>\n",
       "      <td>0</td>\n",
       "      <td>0</td>\n",
       "      <td>0</td>\n",
       "      <td>...</td>\n",
       "      <td>2015</td>\n",
       "      <td>2044</td>\n",
       "      <td>2068</td>\n",
       "      <td>2134</td>\n",
       "      <td>2171</td>\n",
       "      <td>2222</td>\n",
       "      <td>2283</td>\n",
       "      <td>2332</td>\n",
       "      <td>2415</td>\n",
       "      <td>2471</td>\n",
       "    </tr>\n",
       "  </tbody>\n",
       "</table>\n",
       "<p>5 rows × 224 columns</p>\n",
       "</div>"
      ],
      "text/plain": [
       "  Province/State Country/Region       Lat       Long  1/22/20  1/23/20  \\\n",
       "0            NaN    Afghanistan  33.93911  67.709953        0        0   \n",
       "1            NaN        Albania  41.15330  20.168300        0        0   \n",
       "2            NaN        Algeria  28.03390   1.659600        0        0   \n",
       "3            NaN        Andorra  42.50630   1.521800        0        0   \n",
       "4            NaN         Angola -11.20270  17.873900        0        0   \n",
       "\n",
       "   1/24/20  1/25/20  1/26/20  1/27/20  ...  8/19/20  8/20/20  8/21/20  \\\n",
       "0        0        0        0        0  ...    37599    37856    37894   \n",
       "1        0        0        0        0  ...     7812     7967     8119   \n",
       "2        0        0        0        0  ...    39847    40258    40667   \n",
       "3        0        0        0        0  ...     1024     1024     1045   \n",
       "4        0        0        0        0  ...     2015     2044     2068   \n",
       "\n",
       "   8/22/20  8/23/20  8/24/20  8/25/20  8/26/20  8/27/20  8/28/20  \n",
       "0    37953    37999    38054    38070    38113    38129    38140  \n",
       "1     8275     8427     8605     8759     8927     9083     9195  \n",
       "2    41068    41460    41858    42228    42619    43016    43403  \n",
       "3     1045     1045     1060     1060     1098     1098     1124  \n",
       "4     2134     2171     2222     2283     2332     2415     2471  \n",
       "\n",
       "[5 rows x 224 columns]"
      ]
     },
     "execution_count": 2,
     "metadata": {},
     "output_type": "execute_result"
    }
   ],
   "source": [
    "# Load the time series dataset\n",
    "covid_data_location = 'time_series_covid19_confirmed_global~till-28-Aug.csv'\n",
    "covid = pd.read_csv(covid_data_location)\n",
    "covid.head()"
   ]
  },
  {
   "cell_type": "code",
   "execution_count": 3,
   "metadata": {},
   "outputs": [
    {
     "data": {
      "text/html": [
       "<div>\n",
       "<style scoped>\n",
       "    .dataframe tbody tr th:only-of-type {\n",
       "        vertical-align: middle;\n",
       "    }\n",
       "\n",
       "    .dataframe tbody tr th {\n",
       "        vertical-align: top;\n",
       "    }\n",
       "\n",
       "    .dataframe thead th {\n",
       "        text-align: right;\n",
       "    }\n",
       "</style>\n",
       "<table border=\"1\" class=\"dataframe\">\n",
       "  <thead>\n",
       "    <tr style=\"text-align: right;\">\n",
       "      <th></th>\n",
       "      <th>1/22/20</th>\n",
       "      <th>1/23/20</th>\n",
       "      <th>1/24/20</th>\n",
       "      <th>1/25/20</th>\n",
       "      <th>1/26/20</th>\n",
       "      <th>1/27/20</th>\n",
       "      <th>1/28/20</th>\n",
       "      <th>1/29/20</th>\n",
       "      <th>1/30/20</th>\n",
       "      <th>1/31/20</th>\n",
       "      <th>...</th>\n",
       "      <th>8/19/20</th>\n",
       "      <th>8/20/20</th>\n",
       "      <th>8/21/20</th>\n",
       "      <th>8/22/20</th>\n",
       "      <th>8/23/20</th>\n",
       "      <th>8/24/20</th>\n",
       "      <th>8/25/20</th>\n",
       "      <th>8/26/20</th>\n",
       "      <th>8/27/20</th>\n",
       "      <th>8/28/20</th>\n",
       "    </tr>\n",
       "    <tr>\n",
       "      <th>Country/Region</th>\n",
       "      <th></th>\n",
       "      <th></th>\n",
       "      <th></th>\n",
       "      <th></th>\n",
       "      <th></th>\n",
       "      <th></th>\n",
       "      <th></th>\n",
       "      <th></th>\n",
       "      <th></th>\n",
       "      <th></th>\n",
       "      <th></th>\n",
       "      <th></th>\n",
       "      <th></th>\n",
       "      <th></th>\n",
       "      <th></th>\n",
       "      <th></th>\n",
       "      <th></th>\n",
       "      <th></th>\n",
       "      <th></th>\n",
       "      <th></th>\n",
       "      <th></th>\n",
       "    </tr>\n",
       "  </thead>\n",
       "  <tbody>\n",
       "    <tr>\n",
       "      <td>Afghanistan</td>\n",
       "      <td>0</td>\n",
       "      <td>0</td>\n",
       "      <td>0</td>\n",
       "      <td>0</td>\n",
       "      <td>0</td>\n",
       "      <td>0</td>\n",
       "      <td>0</td>\n",
       "      <td>0</td>\n",
       "      <td>0</td>\n",
       "      <td>0</td>\n",
       "      <td>...</td>\n",
       "      <td>37599</td>\n",
       "      <td>37856</td>\n",
       "      <td>37894</td>\n",
       "      <td>37953</td>\n",
       "      <td>37999</td>\n",
       "      <td>38054</td>\n",
       "      <td>38070</td>\n",
       "      <td>38113</td>\n",
       "      <td>38129</td>\n",
       "      <td>38140</td>\n",
       "    </tr>\n",
       "    <tr>\n",
       "      <td>Albania</td>\n",
       "      <td>0</td>\n",
       "      <td>0</td>\n",
       "      <td>0</td>\n",
       "      <td>0</td>\n",
       "      <td>0</td>\n",
       "      <td>0</td>\n",
       "      <td>0</td>\n",
       "      <td>0</td>\n",
       "      <td>0</td>\n",
       "      <td>0</td>\n",
       "      <td>...</td>\n",
       "      <td>7812</td>\n",
       "      <td>7967</td>\n",
       "      <td>8119</td>\n",
       "      <td>8275</td>\n",
       "      <td>8427</td>\n",
       "      <td>8605</td>\n",
       "      <td>8759</td>\n",
       "      <td>8927</td>\n",
       "      <td>9083</td>\n",
       "      <td>9195</td>\n",
       "    </tr>\n",
       "    <tr>\n",
       "      <td>Algeria</td>\n",
       "      <td>0</td>\n",
       "      <td>0</td>\n",
       "      <td>0</td>\n",
       "      <td>0</td>\n",
       "      <td>0</td>\n",
       "      <td>0</td>\n",
       "      <td>0</td>\n",
       "      <td>0</td>\n",
       "      <td>0</td>\n",
       "      <td>0</td>\n",
       "      <td>...</td>\n",
       "      <td>39847</td>\n",
       "      <td>40258</td>\n",
       "      <td>40667</td>\n",
       "      <td>41068</td>\n",
       "      <td>41460</td>\n",
       "      <td>41858</td>\n",
       "      <td>42228</td>\n",
       "      <td>42619</td>\n",
       "      <td>43016</td>\n",
       "      <td>43403</td>\n",
       "    </tr>\n",
       "    <tr>\n",
       "      <td>Andorra</td>\n",
       "      <td>0</td>\n",
       "      <td>0</td>\n",
       "      <td>0</td>\n",
       "      <td>0</td>\n",
       "      <td>0</td>\n",
       "      <td>0</td>\n",
       "      <td>0</td>\n",
       "      <td>0</td>\n",
       "      <td>0</td>\n",
       "      <td>0</td>\n",
       "      <td>...</td>\n",
       "      <td>1024</td>\n",
       "      <td>1024</td>\n",
       "      <td>1045</td>\n",
       "      <td>1045</td>\n",
       "      <td>1045</td>\n",
       "      <td>1060</td>\n",
       "      <td>1060</td>\n",
       "      <td>1098</td>\n",
       "      <td>1098</td>\n",
       "      <td>1124</td>\n",
       "    </tr>\n",
       "    <tr>\n",
       "      <td>Angola</td>\n",
       "      <td>0</td>\n",
       "      <td>0</td>\n",
       "      <td>0</td>\n",
       "      <td>0</td>\n",
       "      <td>0</td>\n",
       "      <td>0</td>\n",
       "      <td>0</td>\n",
       "      <td>0</td>\n",
       "      <td>0</td>\n",
       "      <td>0</td>\n",
       "      <td>...</td>\n",
       "      <td>2015</td>\n",
       "      <td>2044</td>\n",
       "      <td>2068</td>\n",
       "      <td>2134</td>\n",
       "      <td>2171</td>\n",
       "      <td>2222</td>\n",
       "      <td>2283</td>\n",
       "      <td>2332</td>\n",
       "      <td>2415</td>\n",
       "      <td>2471</td>\n",
       "    </tr>\n",
       "  </tbody>\n",
       "</table>\n",
       "<p>5 rows × 220 columns</p>\n",
       "</div>"
      ],
      "text/plain": [
       "                1/22/20  1/23/20  1/24/20  1/25/20  1/26/20  1/27/20  1/28/20  \\\n",
       "Country/Region                                                                  \n",
       "Afghanistan           0        0        0        0        0        0        0   \n",
       "Albania               0        0        0        0        0        0        0   \n",
       "Algeria               0        0        0        0        0        0        0   \n",
       "Andorra               0        0        0        0        0        0        0   \n",
       "Angola                0        0        0        0        0        0        0   \n",
       "\n",
       "                1/29/20  1/30/20  1/31/20  ...  8/19/20  8/20/20  8/21/20  \\\n",
       "Country/Region                             ...                              \n",
       "Afghanistan           0        0        0  ...    37599    37856    37894   \n",
       "Albania               0        0        0  ...     7812     7967     8119   \n",
       "Algeria               0        0        0  ...    39847    40258    40667   \n",
       "Andorra               0        0        0  ...     1024     1024     1045   \n",
       "Angola                0        0        0  ...     2015     2044     2068   \n",
       "\n",
       "                8/22/20  8/23/20  8/24/20  8/25/20  8/26/20  8/27/20  8/28/20  \n",
       "Country/Region                                                                 \n",
       "Afghanistan       37953    37999    38054    38070    38113    38129    38140  \n",
       "Albania            8275     8427     8605     8759     8927     9083     9195  \n",
       "Algeria           41068    41460    41858    42228    42619    43016    43403  \n",
       "Andorra            1045     1045     1060     1060     1098     1098     1124  \n",
       "Angola             2134     2171     2222     2283     2332     2415     2471  \n",
       "\n",
       "[5 rows x 220 columns]"
      ]
     },
     "execution_count": 3,
     "metadata": {},
     "output_type": "execute_result"
    }
   ],
   "source": [
    "# As some counties have more than one rows (e.g., Australia has one for each state), we need to combine all the rows for one country.\n",
    "grouped = covid.groupby('Country/Region').sum()\n",
    "# Just drop the unnecessary location information.\n",
    "grouped = grouped.drop(columns=['Lat', 'Long'])\n",
    "# Now each country has a time series for the accumulated confirmed case.\n",
    "grouped.head()"
   ]
  },
  {
   "cell_type": "code",
   "execution_count": 4,
   "metadata": {},
   "outputs": [
    {
     "data": {
      "text/plain": [
       "Text(0, 0.5, '# Cumulative Confirmed Cases')"
      ]
     },
     "execution_count": 4,
     "metadata": {},
     "output_type": "execute_result"
    },
    {
     "data": {
      "image/png": "[encoded data removed]",
      "text/plain": [
       "<Figure size 432x288 with 1 Axes>"
      ]
     },
     "metadata": {
      "needs_background": "light"
     },
     "output_type": "display_data"
    }
   ],
   "source": [
    "# Following is a simple visualization to give you the basic idea how a time series look like, with Australia as an example.\n",
    "from matplotlib import pyplot as plt\n",
    "data_series_Aus = pd.DataFrame(grouped.loc['Australia', :].values)\n",
    "plt.plot(range(grouped.shape[1]), data_series_Aus)\n",
    "plt.xlabel('Days')\n",
    "plt.ylabel('# Cumulative Confirmed Cases')"
   ]
  },
  {
   "cell_type": "markdown",
   "metadata": {},
   "source": [
    "As to the regression analysis, we aim to build a predictive model to predict the number of confirmed cases from the historical data of daily confirmed cases."
   ]
  },
  {
   "cell_type": "code",
   "execution_count": 5,
   "metadata": {
    "scrolled": true
   },
   "outputs": [
    {
     "data": {
      "text/plain": [
       "Text(0, 0.5, '# Daily Confirmed Cases')"
      ]
     },
     "execution_count": 5,
     "metadata": {},
     "output_type": "execute_result"
    },
    {
     "data": {
      "image/png": "[encoded data removed]",
      "text/plain": [
       "<Figure size 432x288 with 1 Axes>"
      ]
     },
     "metadata": {
      "needs_background": "light"
     },
     "output_type": "display_data"
    }
   ],
   "source": [
    "# Get the daily confirmed cases and show the plot.\n",
    "data_series_Aus_daily = data_series_Aus - pd.concat([pd.DataFrame([0]), data_series_Aus.drop(index=(data_series_Aus.shape[0]-1))], ignore_index=True)\n",
    "plt.plot(range(data_series_Aus_daily.shape[0]), data_series_Aus_daily)\n",
    "plt.xlabel('Days')\n",
    "plt.ylabel('# Daily Confirmed Cases')"
   ]
  },
  {
   "cell_type": "markdown",
   "metadata": {},
   "source": [
    "As suggested by the medical research, the incubation period of COVID-19 virus is 2 weeks. It would be interesting to do feature extraction on the time series with the past 14 days. Lag features are usually used for time series data in order to embedding the temporal informaiton in features."
   ]
  },
  {
   "cell_type": "code",
   "execution_count": 6,
   "metadata": {},
   "outputs": [
    {
     "data": {
      "text/html": [
       "<div>\n",
       "<style scoped>\n",
       "    .dataframe tbody tr th:only-of-type {\n",
       "        vertical-align: middle;\n",
       "    }\n",
       "\n",
       "    .dataframe tbody tr th {\n",
       "        vertical-align: top;\n",
       "    }\n",
       "\n",
       "    .dataframe thead th {\n",
       "        text-align: right;\n",
       "    }\n",
       "</style>\n",
       "<table border=\"1\" class=\"dataframe\">\n",
       "  <thead>\n",
       "    <tr style=\"text-align: right;\">\n",
       "      <th></th>\n",
       "      <th>t-14</th>\n",
       "      <th>t-13</th>\n",
       "      <th>t-12</th>\n",
       "      <th>t-11</th>\n",
       "      <th>t-10</th>\n",
       "      <th>t-9</th>\n",
       "      <th>t-8</th>\n",
       "      <th>t-7</th>\n",
       "      <th>t-6</th>\n",
       "      <th>t-5</th>\n",
       "      <th>t-4</th>\n",
       "      <th>t-3</th>\n",
       "      <th>t-2</th>\n",
       "      <th>t-1</th>\n",
       "      <th>t</th>\n",
       "    </tr>\n",
       "  </thead>\n",
       "  <tbody>\n",
       "    <tr>\n",
       "      <td>0</td>\n",
       "      <td>0.0</td>\n",
       "      <td>0.0</td>\n",
       "      <td>0.0</td>\n",
       "      <td>0.0</td>\n",
       "      <td>4.0</td>\n",
       "      <td>1.0</td>\n",
       "      <td>0.0</td>\n",
       "      <td>1.0</td>\n",
       "      <td>3.0</td>\n",
       "      <td>0.0</td>\n",
       "      <td>3.0</td>\n",
       "      <td>0.0</td>\n",
       "      <td>0.0</td>\n",
       "      <td>1.0</td>\n",
       "      <td>0</td>\n",
       "    </tr>\n",
       "    <tr>\n",
       "      <td>1</td>\n",
       "      <td>0.0</td>\n",
       "      <td>0.0</td>\n",
       "      <td>0.0</td>\n",
       "      <td>4.0</td>\n",
       "      <td>1.0</td>\n",
       "      <td>0.0</td>\n",
       "      <td>1.0</td>\n",
       "      <td>3.0</td>\n",
       "      <td>0.0</td>\n",
       "      <td>3.0</td>\n",
       "      <td>0.0</td>\n",
       "      <td>0.0</td>\n",
       "      <td>1.0</td>\n",
       "      <td>0.0</td>\n",
       "      <td>1</td>\n",
       "    </tr>\n",
       "    <tr>\n",
       "      <td>2</td>\n",
       "      <td>0.0</td>\n",
       "      <td>0.0</td>\n",
       "      <td>4.0</td>\n",
       "      <td>1.0</td>\n",
       "      <td>0.0</td>\n",
       "      <td>1.0</td>\n",
       "      <td>3.0</td>\n",
       "      <td>0.0</td>\n",
       "      <td>3.0</td>\n",
       "      <td>0.0</td>\n",
       "      <td>0.0</td>\n",
       "      <td>1.0</td>\n",
       "      <td>0.0</td>\n",
       "      <td>1.0</td>\n",
       "      <td>1</td>\n",
       "    </tr>\n",
       "    <tr>\n",
       "      <td>3</td>\n",
       "      <td>0.0</td>\n",
       "      <td>4.0</td>\n",
       "      <td>1.0</td>\n",
       "      <td>0.0</td>\n",
       "      <td>1.0</td>\n",
       "      <td>3.0</td>\n",
       "      <td>0.0</td>\n",
       "      <td>3.0</td>\n",
       "      <td>0.0</td>\n",
       "      <td>0.0</td>\n",
       "      <td>1.0</td>\n",
       "      <td>0.0</td>\n",
       "      <td>1.0</td>\n",
       "      <td>1.0</td>\n",
       "      <td>0</td>\n",
       "    </tr>\n",
       "    <tr>\n",
       "      <td>4</td>\n",
       "      <td>4.0</td>\n",
       "      <td>1.0</td>\n",
       "      <td>0.0</td>\n",
       "      <td>1.0</td>\n",
       "      <td>3.0</td>\n",
       "      <td>0.0</td>\n",
       "      <td>3.0</td>\n",
       "      <td>0.0</td>\n",
       "      <td>0.0</td>\n",
       "      <td>1.0</td>\n",
       "      <td>0.0</td>\n",
       "      <td>1.0</td>\n",
       "      <td>1.0</td>\n",
       "      <td>0.0</td>\n",
       "      <td>0</td>\n",
       "    </tr>\n",
       "    <tr>\n",
       "      <td>...</td>\n",
       "      <td>...</td>\n",
       "      <td>...</td>\n",
       "      <td>...</td>\n",
       "      <td>...</td>\n",
       "      <td>...</td>\n",
       "      <td>...</td>\n",
       "      <td>...</td>\n",
       "      <td>...</td>\n",
       "      <td>...</td>\n",
       "      <td>...</td>\n",
       "      <td>...</td>\n",
       "      <td>...</td>\n",
       "      <td>...</td>\n",
       "      <td>...</td>\n",
       "      <td>...</td>\n",
       "    </tr>\n",
       "    <tr>\n",
       "      <td>201</td>\n",
       "      <td>316.0</td>\n",
       "      <td>414.0</td>\n",
       "      <td>231.0</td>\n",
       "      <td>384.0</td>\n",
       "      <td>293.0</td>\n",
       "      <td>252.0</td>\n",
       "      <td>271.0</td>\n",
       "      <td>215.0</td>\n",
       "      <td>216.0</td>\n",
       "      <td>247.0</td>\n",
       "      <td>171.0</td>\n",
       "      <td>195.0</td>\n",
       "      <td>209.0</td>\n",
       "      <td>104.0</td>\n",
       "      <td>138</td>\n",
       "    </tr>\n",
       "    <tr>\n",
       "      <td>202</td>\n",
       "      <td>414.0</td>\n",
       "      <td>231.0</td>\n",
       "      <td>384.0</td>\n",
       "      <td>293.0</td>\n",
       "      <td>252.0</td>\n",
       "      <td>271.0</td>\n",
       "      <td>215.0</td>\n",
       "      <td>216.0</td>\n",
       "      <td>247.0</td>\n",
       "      <td>171.0</td>\n",
       "      <td>195.0</td>\n",
       "      <td>209.0</td>\n",
       "      <td>104.0</td>\n",
       "      <td>138.0</td>\n",
       "      <td>151</td>\n",
       "    </tr>\n",
       "    <tr>\n",
       "      <td>203</td>\n",
       "      <td>231.0</td>\n",
       "      <td>384.0</td>\n",
       "      <td>293.0</td>\n",
       "      <td>252.0</td>\n",
       "      <td>271.0</td>\n",
       "      <td>215.0</td>\n",
       "      <td>216.0</td>\n",
       "      <td>247.0</td>\n",
       "      <td>171.0</td>\n",
       "      <td>195.0</td>\n",
       "      <td>209.0</td>\n",
       "      <td>104.0</td>\n",
       "      <td>138.0</td>\n",
       "      <td>151.0</td>\n",
       "      <td>118</td>\n",
       "    </tr>\n",
       "    <tr>\n",
       "      <td>204</td>\n",
       "      <td>384.0</td>\n",
       "      <td>293.0</td>\n",
       "      <td>252.0</td>\n",
       "      <td>271.0</td>\n",
       "      <td>215.0</td>\n",
       "      <td>216.0</td>\n",
       "      <td>247.0</td>\n",
       "      <td>171.0</td>\n",
       "      <td>195.0</td>\n",
       "      <td>209.0</td>\n",
       "      <td>104.0</td>\n",
       "      <td>138.0</td>\n",
       "      <td>151.0</td>\n",
       "      <td>118.0</td>\n",
       "      <td>126</td>\n",
       "    </tr>\n",
       "    <tr>\n",
       "      <td>205</td>\n",
       "      <td>293.0</td>\n",
       "      <td>252.0</td>\n",
       "      <td>271.0</td>\n",
       "      <td>215.0</td>\n",
       "      <td>216.0</td>\n",
       "      <td>247.0</td>\n",
       "      <td>171.0</td>\n",
       "      <td>195.0</td>\n",
       "      <td>209.0</td>\n",
       "      <td>104.0</td>\n",
       "      <td>138.0</td>\n",
       "      <td>151.0</td>\n",
       "      <td>118.0</td>\n",
       "      <td>126.0</td>\n",
       "      <td>99</td>\n",
       "    </tr>\n",
       "  </tbody>\n",
       "</table>\n",
       "<p>206 rows × 15 columns</p>\n",
       "</div>"
      ],
      "text/plain": [
       "      t-14   t-13   t-12   t-11   t-10    t-9    t-8    t-7    t-6    t-5  \\\n",
       "0      0.0    0.0    0.0    0.0    4.0    1.0    0.0    1.0    3.0    0.0   \n",
       "1      0.0    0.0    0.0    4.0    1.0    0.0    1.0    3.0    0.0    3.0   \n",
       "2      0.0    0.0    4.0    1.0    0.0    1.0    3.0    0.0    3.0    0.0   \n",
       "3      0.0    4.0    1.0    0.0    1.0    3.0    0.0    3.0    0.0    0.0   \n",
       "4      4.0    1.0    0.0    1.0    3.0    0.0    3.0    0.0    0.0    1.0   \n",
       "..     ...    ...    ...    ...    ...    ...    ...    ...    ...    ...   \n",
       "201  316.0  414.0  231.0  384.0  293.0  252.0  271.0  215.0  216.0  247.0   \n",
       "202  414.0  231.0  384.0  293.0  252.0  271.0  215.0  216.0  247.0  171.0   \n",
       "203  231.0  384.0  293.0  252.0  271.0  215.0  216.0  247.0  171.0  195.0   \n",
       "204  384.0  293.0  252.0  271.0  215.0  216.0  247.0  171.0  195.0  209.0   \n",
       "205  293.0  252.0  271.0  215.0  216.0  247.0  171.0  195.0  209.0  104.0   \n",
       "\n",
       "       t-4    t-3    t-2    t-1    t  \n",
       "0      3.0    0.0    0.0    1.0    0  \n",
       "1      0.0    0.0    1.0    0.0    1  \n",
       "2      0.0    1.0    0.0    1.0    1  \n",
       "3      1.0    0.0    1.0    1.0    0  \n",
       "4      0.0    1.0    1.0    0.0    0  \n",
       "..     ...    ...    ...    ...  ...  \n",
       "201  171.0  195.0  209.0  104.0  138  \n",
       "202  195.0  209.0  104.0  138.0  151  \n",
       "203  209.0  104.0  138.0  151.0  118  \n",
       "204  104.0  138.0  151.0  118.0  126  \n",
       "205  138.0  151.0  118.0  126.0   99  \n",
       "\n",
       "[206 rows x 15 columns]"
      ]
     },
     "execution_count": 6,
     "metadata": {},
     "output_type": "execute_result"
    }
   ],
   "source": [
    "# Feature extraction with 2 weeks lag for Australian time series data\n",
    "lag = 14\n",
    "data_Aus_daily = data_series_Aus_daily\n",
    "for i in range(lag):\n",
    "    temp = pd.concat([data_series_Aus_daily.shift(i+1), data_Aus_daily], axis=1)\n",
    "    data_Aus_daily = temp\n",
    "\n",
    "# Set the temporal feature names\n",
    "names=[]\n",
    "for i in range(lag):\n",
    "    names.append('t-'+str(14-i))\n",
    "names.append('t')\n",
    "data_Aus_daily.columns=names\n",
    "\n",
    "# Remove the missing or NaN values introduced by the feature extraction\n",
    "data_Aus_daily.dropna(inplace=True)\n",
    "data_Aus_daily.reset_index(drop=True, inplace=True)\n",
    "data_Aus_daily"
   ]
  },
  {
   "cell_type": "markdown",
   "metadata": {},
   "source": [
    "### Regression"
   ]
  },
  {
   "cell_type": "markdown",
   "metadata": {},
   "source": [
    "After the feature extraction, we can build a predictive model based on the past 14 days historical data of the number daily confirmed cases. Following is the example for Australian data. We build an [ordinary linear regression model](https://scikit-learn.org/stable/modules/linear_model.html#ordinary-least-squares) after spliting the data into training and testing datasets. We use both r2 score and RMSE (Root Mean Squared Error) as the [performance metrics](https://scikit-learn.org/stable/modules/model_evaluation.html#scoring-parameter). We also show the learned model parameters, i.e., the feature coefficients and the intercept."
   ]
  },
  {
   "cell_type": "code",
   "execution_count": 14,
   "metadata": {},
   "outputs": [
    {
     "name": "stdout",
     "output_type": "stream",
     "text": [
      "Testing r2 score: 0.7574 \n",
      "\n",
      "Testing RMSE value: 82.3866 \n",
      "\n",
      "Coefficients:  [0.0727 0.1464 0.0046 -0.2315 -0.1576 -0.0395 -0.1798 -0.1602 0.0352\n",
      " 0.2585 0.3584 0.3718 0.2615 0.2222]\n",
      "Intercept: 6.5761 \n",
      "\n"
     ]
    }
   ],
   "source": [
    "from sklearn.model_selection import train_test_split\n",
    "from sklearn.linear_model import LinearRegression\n",
    "from sklearn.metrics import r2_score, mean_squared_error\n",
    "\n",
    "# Specify the features and the target\n",
    "X = data_Aus_daily.drop(['t'], axis=1)\n",
    "y = data_Aus_daily['t']\n",
    "\n",
    "# Split the dataset for training and testing\n",
    "X_train, X_test, y_train, y_test = train_test_split(X, y, test_size=0.2)\n",
    "\n",
    "# Build a linear regression model from the training data\n",
    "lr = LinearRegression().fit(X_train, y_train)\n",
    "\n",
    "# Perform prediction on the testing data\n",
    "y_pred = lr.predict(X_test)\n",
    "\n",
    "# Evaluate the prediction performance by r2 score and RMSE\n",
    "print('Testing r2 score: %.4f \\n' % r2_score(y_test, y_pred))\n",
    "print('Testing RMSE value: %.4f \\n' % np.sqrt(mean_squared_error(y_test, y_pred)))\n",
    "\n",
    "print('Coefficients: ', lr.coef_)\n",
    "print('Intercept: %.4f \\n' % lr.intercept_)"
   ]
  },
  {
   "cell_type": "markdown",
   "metadata": {},
   "source": [
    "If executing the above cell again, we might get different results due to the randomness in the train-test data splitting proess. To get more robust resuts, we could make use of the k-fold cross validation."
   ]
  },
  {
   "cell_type": "markdown",
   "metadata": {},
   "source": [
    "**Task-1** (1 mark): Use 5-fold cross validation (CV) to the two report performance metrics, i.e., r2 (coefficient of determination) and RMSE. Specifically, you can use the [cross_val_score function](https://scikit-learn.org/stable/modules/generated/sklearn.model_selection.cross_val_score.html#sklearn.model_selection.cross_val_score). You need to report the mean and std values, as well as the min-max range for each performance metric. An example output is provided for the expected souce code. Note that your actual output might be different from the example."
   ]
  },
  {
   "cell_type": "code",
   "execution_count": 15,
   "metadata": {},
   "outputs": [
    {
     "name": "stdout",
     "output_type": "stream",
     "text": [
      "r2_score mean is: 0.7742\n",
      "r2_score std is: 0.0982\n",
      "r2 score range is: [0.6618, 0.9006]\n",
      "\n",
      "RMSE mean is: 63.5142\n",
      "RMSE std is: 22.6777\n",
      "RMSE range is: [40.9950, 103.9602]\n",
      "\n"
     ]
    }
   ],
   "source": [
    "# Your code here\n",
    "\n",
    "\n",
    "\n",
    "\n",
    "\n",
    "\n",
    "\n",
    "\n"
   ]
  },
  {
   "cell_type": "markdown",
   "metadata": {},
   "source": [
    "The above built models are for Australia, and might not be able to applicable to other countries. To build a more general linear regression model, let's make of the data from all countries."
   ]
  },
  {
   "cell_type": "code",
   "execution_count": 16,
   "metadata": {},
   "outputs": [
    {
     "data": {
      "text/html": [
       "<div>\n",
       "<style scoped>\n",
       "    .dataframe tbody tr th:only-of-type {\n",
       "        vertical-align: middle;\n",
       "    }\n",
       "\n",
       "    .dataframe tbody tr th {\n",
       "        vertical-align: top;\n",
       "    }\n",
       "\n",
       "    .dataframe thead th {\n",
       "        text-align: right;\n",
       "    }\n",
       "</style>\n",
       "<table border=\"1\" class=\"dataframe\">\n",
       "  <thead>\n",
       "    <tr style=\"text-align: right;\">\n",
       "      <th></th>\n",
       "      <th>t-14</th>\n",
       "      <th>t-13</th>\n",
       "      <th>t-12</th>\n",
       "      <th>t-11</th>\n",
       "      <th>t-10</th>\n",
       "      <th>t-9</th>\n",
       "      <th>t-8</th>\n",
       "      <th>t-7</th>\n",
       "      <th>t-6</th>\n",
       "      <th>t-5</th>\n",
       "      <th>t-4</th>\n",
       "      <th>t-3</th>\n",
       "      <th>t-2</th>\n",
       "      <th>t-1</th>\n",
       "      <th>t</th>\n",
       "    </tr>\n",
       "  </thead>\n",
       "  <tbody>\n",
       "    <tr>\n",
       "      <td>0</td>\n",
       "      <td>0.0</td>\n",
       "      <td>0.0</td>\n",
       "      <td>0.0</td>\n",
       "      <td>0.0</td>\n",
       "      <td>0.0</td>\n",
       "      <td>0.0</td>\n",
       "      <td>0.0</td>\n",
       "      <td>0.0</td>\n",
       "      <td>0.0</td>\n",
       "      <td>0.0</td>\n",
       "      <td>0.0</td>\n",
       "      <td>0.0</td>\n",
       "      <td>0.0</td>\n",
       "      <td>0.0</td>\n",
       "      <td>0</td>\n",
       "    </tr>\n",
       "    <tr>\n",
       "      <td>1</td>\n",
       "      <td>0.0</td>\n",
       "      <td>0.0</td>\n",
       "      <td>0.0</td>\n",
       "      <td>0.0</td>\n",
       "      <td>0.0</td>\n",
       "      <td>0.0</td>\n",
       "      <td>0.0</td>\n",
       "      <td>0.0</td>\n",
       "      <td>0.0</td>\n",
       "      <td>0.0</td>\n",
       "      <td>0.0</td>\n",
       "      <td>0.0</td>\n",
       "      <td>0.0</td>\n",
       "      <td>0.0</td>\n",
       "      <td>0</td>\n",
       "    </tr>\n",
       "    <tr>\n",
       "      <td>2</td>\n",
       "      <td>0.0</td>\n",
       "      <td>0.0</td>\n",
       "      <td>0.0</td>\n",
       "      <td>0.0</td>\n",
       "      <td>0.0</td>\n",
       "      <td>0.0</td>\n",
       "      <td>0.0</td>\n",
       "      <td>0.0</td>\n",
       "      <td>0.0</td>\n",
       "      <td>0.0</td>\n",
       "      <td>0.0</td>\n",
       "      <td>0.0</td>\n",
       "      <td>0.0</td>\n",
       "      <td>0.0</td>\n",
       "      <td>0</td>\n",
       "    </tr>\n",
       "    <tr>\n",
       "      <td>3</td>\n",
       "      <td>0.0</td>\n",
       "      <td>0.0</td>\n",
       "      <td>0.0</td>\n",
       "      <td>0.0</td>\n",
       "      <td>0.0</td>\n",
       "      <td>0.0</td>\n",
       "      <td>0.0</td>\n",
       "      <td>0.0</td>\n",
       "      <td>0.0</td>\n",
       "      <td>0.0</td>\n",
       "      <td>0.0</td>\n",
       "      <td>0.0</td>\n",
       "      <td>0.0</td>\n",
       "      <td>0.0</td>\n",
       "      <td>0</td>\n",
       "    </tr>\n",
       "    <tr>\n",
       "      <td>4</td>\n",
       "      <td>0.0</td>\n",
       "      <td>0.0</td>\n",
       "      <td>0.0</td>\n",
       "      <td>0.0</td>\n",
       "      <td>0.0</td>\n",
       "      <td>0.0</td>\n",
       "      <td>0.0</td>\n",
       "      <td>0.0</td>\n",
       "      <td>0.0</td>\n",
       "      <td>0.0</td>\n",
       "      <td>0.0</td>\n",
       "      <td>0.0</td>\n",
       "      <td>0.0</td>\n",
       "      <td>0.0</td>\n",
       "      <td>0</td>\n",
       "    </tr>\n",
       "    <tr>\n",
       "      <td>...</td>\n",
       "      <td>...</td>\n",
       "      <td>...</td>\n",
       "      <td>...</td>\n",
       "      <td>...</td>\n",
       "      <td>...</td>\n",
       "      <td>...</td>\n",
       "      <td>...</td>\n",
       "      <td>...</td>\n",
       "      <td>...</td>\n",
       "      <td>...</td>\n",
       "      <td>...</td>\n",
       "      <td>...</td>\n",
       "      <td>...</td>\n",
       "      <td>...</td>\n",
       "      <td>...</td>\n",
       "    </tr>\n",
       "    <tr>\n",
       "      <td>38723</td>\n",
       "      <td>99.0</td>\n",
       "      <td>70.0</td>\n",
       "      <td>75.0</td>\n",
       "      <td>97.0</td>\n",
       "      <td>82.0</td>\n",
       "      <td>104.0</td>\n",
       "      <td>85.0</td>\n",
       "      <td>47.0</td>\n",
       "      <td>70.0</td>\n",
       "      <td>265.0</td>\n",
       "      <td>102.0</td>\n",
       "      <td>70.0</td>\n",
       "      <td>78.0</td>\n",
       "      <td>37.0</td>\n",
       "      <td>140</td>\n",
       "    </tr>\n",
       "    <tr>\n",
       "      <td>38724</td>\n",
       "      <td>70.0</td>\n",
       "      <td>75.0</td>\n",
       "      <td>97.0</td>\n",
       "      <td>82.0</td>\n",
       "      <td>104.0</td>\n",
       "      <td>85.0</td>\n",
       "      <td>47.0</td>\n",
       "      <td>70.0</td>\n",
       "      <td>265.0</td>\n",
       "      <td>102.0</td>\n",
       "      <td>70.0</td>\n",
       "      <td>78.0</td>\n",
       "      <td>37.0</td>\n",
       "      <td>140.0</td>\n",
       "      <td>126</td>\n",
       "    </tr>\n",
       "    <tr>\n",
       "      <td>38725</td>\n",
       "      <td>75.0</td>\n",
       "      <td>97.0</td>\n",
       "      <td>82.0</td>\n",
       "      <td>104.0</td>\n",
       "      <td>85.0</td>\n",
       "      <td>47.0</td>\n",
       "      <td>70.0</td>\n",
       "      <td>265.0</td>\n",
       "      <td>102.0</td>\n",
       "      <td>70.0</td>\n",
       "      <td>78.0</td>\n",
       "      <td>37.0</td>\n",
       "      <td>140.0</td>\n",
       "      <td>126.0</td>\n",
       "      <td>55</td>\n",
       "    </tr>\n",
       "    <tr>\n",
       "      <td>38726</td>\n",
       "      <td>97.0</td>\n",
       "      <td>82.0</td>\n",
       "      <td>104.0</td>\n",
       "      <td>85.0</td>\n",
       "      <td>47.0</td>\n",
       "      <td>70.0</td>\n",
       "      <td>265.0</td>\n",
       "      <td>102.0</td>\n",
       "      <td>70.0</td>\n",
       "      <td>78.0</td>\n",
       "      <td>37.0</td>\n",
       "      <td>140.0</td>\n",
       "      <td>126.0</td>\n",
       "      <td>55.0</td>\n",
       "      <td>41</td>\n",
       "    </tr>\n",
       "    <tr>\n",
       "      <td>38727</td>\n",
       "      <td>82.0</td>\n",
       "      <td>104.0</td>\n",
       "      <td>85.0</td>\n",
       "      <td>47.0</td>\n",
       "      <td>70.0</td>\n",
       "      <td>265.0</td>\n",
       "      <td>102.0</td>\n",
       "      <td>70.0</td>\n",
       "      <td>78.0</td>\n",
       "      <td>37.0</td>\n",
       "      <td>140.0</td>\n",
       "      <td>126.0</td>\n",
       "      <td>55.0</td>\n",
       "      <td>41.0</td>\n",
       "      <td>96</td>\n",
       "    </tr>\n",
       "  </tbody>\n",
       "</table>\n",
       "<p>38728 rows × 15 columns</p>\n",
       "</div>"
      ],
      "text/plain": [
       "       t-14   t-13   t-12   t-11   t-10    t-9    t-8    t-7    t-6    t-5  \\\n",
       "0       0.0    0.0    0.0    0.0    0.0    0.0    0.0    0.0    0.0    0.0   \n",
       "1       0.0    0.0    0.0    0.0    0.0    0.0    0.0    0.0    0.0    0.0   \n",
       "2       0.0    0.0    0.0    0.0    0.0    0.0    0.0    0.0    0.0    0.0   \n",
       "3       0.0    0.0    0.0    0.0    0.0    0.0    0.0    0.0    0.0    0.0   \n",
       "4       0.0    0.0    0.0    0.0    0.0    0.0    0.0    0.0    0.0    0.0   \n",
       "...     ...    ...    ...    ...    ...    ...    ...    ...    ...    ...   \n",
       "38723  99.0   70.0   75.0   97.0   82.0  104.0   85.0   47.0   70.0  265.0   \n",
       "38724  70.0   75.0   97.0   82.0  104.0   85.0   47.0   70.0  265.0  102.0   \n",
       "38725  75.0   97.0   82.0  104.0   85.0   47.0   70.0  265.0  102.0   70.0   \n",
       "38726  97.0   82.0  104.0   85.0   47.0   70.0  265.0  102.0   70.0   78.0   \n",
       "38727  82.0  104.0   85.0   47.0   70.0  265.0  102.0   70.0   78.0   37.0   \n",
       "\n",
       "         t-4    t-3    t-2    t-1    t  \n",
       "0        0.0    0.0    0.0    0.0    0  \n",
       "1        0.0    0.0    0.0    0.0    0  \n",
       "2        0.0    0.0    0.0    0.0    0  \n",
       "3        0.0    0.0    0.0    0.0    0  \n",
       "4        0.0    0.0    0.0    0.0    0  \n",
       "...      ...    ...    ...    ...  ...  \n",
       "38723  102.0   70.0   78.0   37.0  140  \n",
       "38724   70.0   78.0   37.0  140.0  126  \n",
       "38725   78.0   37.0  140.0  126.0   55  \n",
       "38726   37.0  140.0  126.0   55.0   41  \n",
       "38727  140.0  126.0   55.0   41.0   96  \n",
       "\n",
       "[38728 rows x 15 columns]"
      ]
     },
     "execution_count": 16,
     "metadata": {},
     "output_type": "execute_result"
    }
   ],
   "source": [
    "# Feature extraction with 2 weeks lag for all countries's daily confirmed cases\n",
    "lag = 14\n",
    "data = pd.DataFrame()\n",
    "for i in grouped.index:\n",
    "    data_series_country = pd.DataFrame(grouped.loc[i].values)\n",
    "    data_series_country_daily = data_series_country - pd.concat([pd.DataFrame([0]), data_series_country.drop(index=(data_series_country.shape[0]-1))], ignore_index=True)\n",
    "    data_country_daily = data_series_country_daily\n",
    "    for i in range(lag):\n",
    "        temp = pd.concat([data_series_country_daily.shift(i+1), data_country_daily], axis=1)\n",
    "        data_country_daily = temp\n",
    "    #print(data_country)\n",
    "    data = pd.concat([data, data_country_daily], ignore_index=True)\n",
    "#data = data.dropna(ignore_index=True)\n",
    "data.dropna(inplace=True)\n",
    "data.reset_index(drop=True, inplace=True)\n",
    "\n",
    "names=[]\n",
    "for i in range(lag):\n",
    "    names.append('t-'+str(14-i))\n",
    "names.append('t')\n",
    "data.columns=names\n",
    "data"
   ]
  },
  {
   "cell_type": "markdown",
   "metadata": {},
   "source": [
    "**Task 2** (1 mark): Now we can see that we have a much larger dataset, with 38,728 rows of data instances. Similar to what you do in Task 1, use 5-fold cross validation (CV) to the two report performance metrics, i.e., r2 and RMSE. "
   ]
  },
  {
   "cell_type": "code",
   "execution_count": 17,
   "metadata": {},
   "outputs": [
    {
     "name": "stdout",
     "output_type": "stream",
     "text": [
      "r2_score mean is: 0.9728\n",
      "r2_score std is: 0.0078\n",
      "r2 score range is: [0.9603, 0.9845]\n",
      "\n",
      "RMSE mean is: 634.8927\n",
      "RMSE std is: 83.8858\n",
      "RMSE range is: [576.7732, 799.3061]\n",
      "\n"
     ]
    }
   ],
   "source": [
    "# Your code here\n",
    "\n",
    "\n",
    "\n",
    "\n",
    "\n",
    "\n",
    "\n",
    "\n"
   ]
  },
  {
   "cell_type": "markdown",
   "metadata": {},
   "source": [
    "**Task 3** (1 mark): Comparing the r2 score of the model built from the Australian data with that from the all countries, which is better? Can you explain why it is better? You could consider this from the relationship between the overfitting issue and the training data size.\n"
   ]
  },
  {
   "cell_type": "markdown",
   "metadata": {},
   "source": [
    "**[Your answer]**:"
   ]
  },
  {
   "cell_type": "markdown",
   "metadata": {},
   "source": [
    "### Clustering\n",
    "We will perform clustering analysis on the Australian data. I will show the result of [hierarchical clustering](https://scikit-learn.org/stable/auto_examples/cluster/plot_agglomerative_dendrogram.html) to give your the basic informaiton of the clustering structure in the data set. Then, you are required perform clusterin analysis with the [K-Means algorithm](https://scikit-learn.org/stable/modules/clustering.html#k-means)."
   ]
  },
  {
   "cell_type": "code",
   "execution_count": 18,
   "metadata": {},
   "outputs": [
    {
     "data": {
      "image/png": "[encoded data removed]",
      "text/plain": [
       "<Figure size 1080x504 with 1 Axes>"
      ]
     },
     "metadata": {
      "needs_background": "light"
     },
     "output_type": "display_data"
    }
   ],
   "source": [
    "# Using the hierachical clustering to show the nature clustering structure in the data\n",
    "from scipy.cluster.hierarchy import linkage, dendrogram, cut_tree\n",
    "from scipy.spatial.distance import pdist\n",
    "\n",
    "# compute the distance matrix\n",
    "dist = pdist(data_Aus_daily, 'euclidean')\n",
    "linkage_matrix = linkage(dist,method = 'ward')\n",
    "\n",
    "plt.figure(figsize=(15,7))\n",
    "dendrogram(linkage_matrix)\n",
    "plt.show()"
   ]
  },
  {
   "cell_type": "markdown",
   "metadata": {},
   "source": [
    "**Task 4** (1 mark): It can be seen from the above dendrogram that there are obviously two clusters in the data. Use the K-Means algorithm to conduct clustering analysis, with K=2. What are the cluster means/centres? How much is the inertia (total data distortion)?"
   ]
  },
  {
   "cell_type": "code",
   "execution_count": 19,
   "metadata": {},
   "outputs": [
    {
     "name": "stdout",
     "output_type": "stream",
     "text": [
      "Cluster means:  [[28.0141 25.9648 25.6479 24.3239 24.2324 24.5493 24.5070 25.5704 26.5070\n",
      "  27.7676 31.1690 35.0845 36.9859 40.2042 44.2746]\n",
      " [297.7656 306.2500 311.1875 317.4844 321.0625 324.1562 326.9062 327.5938\n",
      "  328.7656 327.5469 322.1563 315.7812 313.4062 308.2344 300.7344]]\n",
      "\n",
      "Inertia (total data distortion): 25628036.5612\n",
      "\n"
     ]
    }
   ],
   "source": [
    "# Your code here\n",
    "\n",
    "\n",
    "\n",
    "\n",
    "\n",
    "\n",
    "\n",
    "\n"
   ]
  },
  {
   "cell_type": "markdown",
   "metadata": {},
   "source": [
    "**Taks 5** (1 mark): To study the clustering performance change with respect to the number of clusters, we make use of a clustering performance metric [Davies-Bouldin score](https://scikit-learn.org/stable/modules/generated/sklearn.metrics.davies_bouldin_score.html?highlight=davies_bouldin_score#sklearn.metrics.davies_bouldin_score) which is defined as the average similarity measure of each cluster with its most similar cluster, where similarity is the ratio of within-cluster distances to between-cluster distances. The range of K is between 2 to 10 (inclusive). You are required to plot the DB scores with respect to the K value. A example plot is show from the expected souce code. Note that yours might be different from the example. What are the findings from the plot?"
   ]
  },
  {
   "cell_type": "code",
   "execution_count": 20,
   "metadata": {},
   "outputs": [
    {
     "data": {
      "image/png": "[encoded data removed]",
      "text/plain": [
       "<Figure size 432x288 with 1 Axes>"
      ]
     },
     "metadata": {
      "needs_background": "light"
     },
     "output_type": "display_data"
    }
   ],
   "source": [
    "# Your code here\n",
    "\n",
    "\n",
    "\n",
    "\n",
    "\n",
    "\n",
    "\n",
    "\n"
   ]
  },
  {
   "cell_type": "markdown",
   "metadata": {},
   "source": [
    "**[Your observation and findings from the above plot]**:"
   ]
  },
  {
   "cell_type": "code",
   "execution_count": null,
   "metadata": {},
   "outputs": [],
   "source": []
  },
  {
   "cell_type": "markdown",
   "metadata": {},
   "source": [
    "### For Pima data"
   ]
  },
  {
   "cell_type": "code",
   "execution_count": 21,
   "metadata": {},
   "outputs": [
    {
     "data": {
      "text/html": [
       "<div>\n",
       "<style scoped>\n",
       "    .dataframe tbody tr th:only-of-type {\n",
       "        vertical-align: middle;\n",
       "    }\n",
       "\n",
       "    .dataframe tbody tr th {\n",
       "        vertical-align: top;\n",
       "    }\n",
       "\n",
       "    .dataframe thead th {\n",
       "        text-align: right;\n",
       "    }\n",
       "</style>\n",
       "<table border=\"1\" class=\"dataframe\">\n",
       "  <thead>\n",
       "    <tr style=\"text-align: right;\">\n",
       "      <th></th>\n",
       "      <th>Pregnancies</th>\n",
       "      <th>Glucose</th>\n",
       "      <th>BloodPressure</th>\n",
       "      <th>SkinThickness</th>\n",
       "      <th>Insulin</th>\n",
       "      <th>BMI</th>\n",
       "      <th>DiabetesPedigreeFunction</th>\n",
       "      <th>Age</th>\n",
       "      <th>Outcome</th>\n",
       "    </tr>\n",
       "  </thead>\n",
       "  <tbody>\n",
       "    <tr>\n",
       "      <td>count</td>\n",
       "      <td>768.000000</td>\n",
       "      <td>763.000000</td>\n",
       "      <td>733.000000</td>\n",
       "      <td>541.000000</td>\n",
       "      <td>394.000000</td>\n",
       "      <td>757.000000</td>\n",
       "      <td>768.000000</td>\n",
       "      <td>768.000000</td>\n",
       "      <td>768.000000</td>\n",
       "    </tr>\n",
       "    <tr>\n",
       "      <td>mean</td>\n",
       "      <td>3.845052</td>\n",
       "      <td>121.686763</td>\n",
       "      <td>72.405184</td>\n",
       "      <td>29.153420</td>\n",
       "      <td>155.548223</td>\n",
       "      <td>32.457464</td>\n",
       "      <td>0.471876</td>\n",
       "      <td>33.240885</td>\n",
       "      <td>0.348958</td>\n",
       "    </tr>\n",
       "    <tr>\n",
       "      <td>std</td>\n",
       "      <td>3.369578</td>\n",
       "      <td>30.535641</td>\n",
       "      <td>12.382158</td>\n",
       "      <td>10.476982</td>\n",
       "      <td>118.775855</td>\n",
       "      <td>6.924988</td>\n",
       "      <td>0.331329</td>\n",
       "      <td>11.760232</td>\n",
       "      <td>0.476951</td>\n",
       "    </tr>\n",
       "    <tr>\n",
       "      <td>min</td>\n",
       "      <td>0.000000</td>\n",
       "      <td>44.000000</td>\n",
       "      <td>24.000000</td>\n",
       "      <td>7.000000</td>\n",
       "      <td>14.000000</td>\n",
       "      <td>18.200000</td>\n",
       "      <td>0.078000</td>\n",
       "      <td>21.000000</td>\n",
       "      <td>0.000000</td>\n",
       "    </tr>\n",
       "    <tr>\n",
       "      <td>25%</td>\n",
       "      <td>1.000000</td>\n",
       "      <td>99.000000</td>\n",
       "      <td>64.000000</td>\n",
       "      <td>22.000000</td>\n",
       "      <td>76.250000</td>\n",
       "      <td>27.500000</td>\n",
       "      <td>0.243750</td>\n",
       "      <td>24.000000</td>\n",
       "      <td>0.000000</td>\n",
       "    </tr>\n",
       "    <tr>\n",
       "      <td>50%</td>\n",
       "      <td>3.000000</td>\n",
       "      <td>117.000000</td>\n",
       "      <td>72.000000</td>\n",
       "      <td>29.000000</td>\n",
       "      <td>125.000000</td>\n",
       "      <td>32.300000</td>\n",
       "      <td>0.372500</td>\n",
       "      <td>29.000000</td>\n",
       "      <td>0.000000</td>\n",
       "    </tr>\n",
       "    <tr>\n",
       "      <td>75%</td>\n",
       "      <td>6.000000</td>\n",
       "      <td>141.000000</td>\n",
       "      <td>80.000000</td>\n",
       "      <td>36.000000</td>\n",
       "      <td>190.000000</td>\n",
       "      <td>36.600000</td>\n",
       "      <td>0.626250</td>\n",
       "      <td>41.000000</td>\n",
       "      <td>1.000000</td>\n",
       "    </tr>\n",
       "    <tr>\n",
       "      <td>max</td>\n",
       "      <td>17.000000</td>\n",
       "      <td>199.000000</td>\n",
       "      <td>122.000000</td>\n",
       "      <td>99.000000</td>\n",
       "      <td>846.000000</td>\n",
       "      <td>67.100000</td>\n",
       "      <td>2.420000</td>\n",
       "      <td>81.000000</td>\n",
       "      <td>1.000000</td>\n",
       "    </tr>\n",
       "  </tbody>\n",
       "</table>\n",
       "</div>"
      ],
      "text/plain": [
       "       Pregnancies     Glucose  BloodPressure  SkinThickness     Insulin  \\\n",
       "count   768.000000  763.000000     733.000000     541.000000  394.000000   \n",
       "mean      3.845052  121.686763      72.405184      29.153420  155.548223   \n",
       "std       3.369578   30.535641      12.382158      10.476982  118.775855   \n",
       "min       0.000000   44.000000      24.000000       7.000000   14.000000   \n",
       "25%       1.000000   99.000000      64.000000      22.000000   76.250000   \n",
       "50%       3.000000  117.000000      72.000000      29.000000  125.000000   \n",
       "75%       6.000000  141.000000      80.000000      36.000000  190.000000   \n",
       "max      17.000000  199.000000     122.000000      99.000000  846.000000   \n",
       "\n",
       "              BMI  DiabetesPedigreeFunction         Age     Outcome  \n",
       "count  757.000000                768.000000  768.000000  768.000000  \n",
       "mean    32.457464                  0.471876   33.240885    0.348958  \n",
       "std      6.924988                  0.331329   11.760232    0.476951  \n",
       "min     18.200000                  0.078000   21.000000    0.000000  \n",
       "25%     27.500000                  0.243750   24.000000    0.000000  \n",
       "50%     32.300000                  0.372500   29.000000    0.000000  \n",
       "75%     36.600000                  0.626250   41.000000    1.000000  \n",
       "max     67.100000                  2.420000   81.000000    1.000000  "
      ]
     },
     "execution_count": 21,
     "metadata": {},
     "output_type": "execute_result"
    }
   ],
   "source": [
    "# Load the datasets. Note that there are missing values in the data set. When loading the data, we convert the missing value as NaN\n",
    "pima_data = pd.read_csv('pima-indians-diabetes.csv', na_filter=True, na_values='?')\n",
    "\n",
    "# Show statisitical information for each feature\n",
    "pima_data.describe()"
   ]
  },
  {
   "cell_type": "code",
   "execution_count": 22,
   "metadata": {},
   "outputs": [
    {
     "data": {
      "text/html": [
       "<div>\n",
       "<style scoped>\n",
       "    .dataframe tbody tr th:only-of-type {\n",
       "        vertical-align: middle;\n",
       "    }\n",
       "\n",
       "    .dataframe tbody tr th {\n",
       "        vertical-align: top;\n",
       "    }\n",
       "\n",
       "    .dataframe thead th {\n",
       "        text-align: right;\n",
       "    }\n",
       "</style>\n",
       "<table border=\"1\" class=\"dataframe\">\n",
       "  <thead>\n",
       "    <tr style=\"text-align: right;\">\n",
       "      <th></th>\n",
       "      <th>Pregnancies</th>\n",
       "      <th>Glucose</th>\n",
       "      <th>BloodPressure</th>\n",
       "      <th>SkinThickness</th>\n",
       "      <th>Insulin</th>\n",
       "      <th>BMI</th>\n",
       "      <th>DiabetesPedigreeFunction</th>\n",
       "      <th>Age</th>\n",
       "      <th>Outcome</th>\n",
       "    </tr>\n",
       "  </thead>\n",
       "  <tbody>\n",
       "    <tr>\n",
       "      <td>0</td>\n",
       "      <td>6</td>\n",
       "      <td>148.0</td>\n",
       "      <td>72.0</td>\n",
       "      <td>35.0</td>\n",
       "      <td>NaN</td>\n",
       "      <td>33.6</td>\n",
       "      <td>0.627</td>\n",
       "      <td>50</td>\n",
       "      <td>1</td>\n",
       "    </tr>\n",
       "    <tr>\n",
       "      <td>1</td>\n",
       "      <td>1</td>\n",
       "      <td>85.0</td>\n",
       "      <td>66.0</td>\n",
       "      <td>29.0</td>\n",
       "      <td>NaN</td>\n",
       "      <td>26.6</td>\n",
       "      <td>0.351</td>\n",
       "      <td>31</td>\n",
       "      <td>0</td>\n",
       "    </tr>\n",
       "    <tr>\n",
       "      <td>2</td>\n",
       "      <td>8</td>\n",
       "      <td>183.0</td>\n",
       "      <td>64.0</td>\n",
       "      <td>NaN</td>\n",
       "      <td>NaN</td>\n",
       "      <td>23.3</td>\n",
       "      <td>0.672</td>\n",
       "      <td>32</td>\n",
       "      <td>1</td>\n",
       "    </tr>\n",
       "    <tr>\n",
       "      <td>3</td>\n",
       "      <td>1</td>\n",
       "      <td>89.0</td>\n",
       "      <td>66.0</td>\n",
       "      <td>23.0</td>\n",
       "      <td>94.0</td>\n",
       "      <td>28.1</td>\n",
       "      <td>0.167</td>\n",
       "      <td>21</td>\n",
       "      <td>0</td>\n",
       "    </tr>\n",
       "    <tr>\n",
       "      <td>4</td>\n",
       "      <td>0</td>\n",
       "      <td>137.0</td>\n",
       "      <td>40.0</td>\n",
       "      <td>35.0</td>\n",
       "      <td>168.0</td>\n",
       "      <td>43.1</td>\n",
       "      <td>2.288</td>\n",
       "      <td>33</td>\n",
       "      <td>1</td>\n",
       "    </tr>\n",
       "    <tr>\n",
       "      <td>...</td>\n",
       "      <td>...</td>\n",
       "      <td>...</td>\n",
       "      <td>...</td>\n",
       "      <td>...</td>\n",
       "      <td>...</td>\n",
       "      <td>...</td>\n",
       "      <td>...</td>\n",
       "      <td>...</td>\n",
       "      <td>...</td>\n",
       "    </tr>\n",
       "    <tr>\n",
       "      <td>763</td>\n",
       "      <td>10</td>\n",
       "      <td>101.0</td>\n",
       "      <td>76.0</td>\n",
       "      <td>48.0</td>\n",
       "      <td>180.0</td>\n",
       "      <td>32.9</td>\n",
       "      <td>0.171</td>\n",
       "      <td>63</td>\n",
       "      <td>0</td>\n",
       "    </tr>\n",
       "    <tr>\n",
       "      <td>764</td>\n",
       "      <td>2</td>\n",
       "      <td>122.0</td>\n",
       "      <td>70.0</td>\n",
       "      <td>27.0</td>\n",
       "      <td>NaN</td>\n",
       "      <td>36.8</td>\n",
       "      <td>0.340</td>\n",
       "      <td>27</td>\n",
       "      <td>0</td>\n",
       "    </tr>\n",
       "    <tr>\n",
       "      <td>765</td>\n",
       "      <td>5</td>\n",
       "      <td>121.0</td>\n",
       "      <td>72.0</td>\n",
       "      <td>23.0</td>\n",
       "      <td>112.0</td>\n",
       "      <td>26.2</td>\n",
       "      <td>0.245</td>\n",
       "      <td>30</td>\n",
       "      <td>0</td>\n",
       "    </tr>\n",
       "    <tr>\n",
       "      <td>766</td>\n",
       "      <td>1</td>\n",
       "      <td>126.0</td>\n",
       "      <td>60.0</td>\n",
       "      <td>NaN</td>\n",
       "      <td>NaN</td>\n",
       "      <td>30.1</td>\n",
       "      <td>0.349</td>\n",
       "      <td>47</td>\n",
       "      <td>1</td>\n",
       "    </tr>\n",
       "    <tr>\n",
       "      <td>767</td>\n",
       "      <td>1</td>\n",
       "      <td>93.0</td>\n",
       "      <td>70.0</td>\n",
       "      <td>31.0</td>\n",
       "      <td>NaN</td>\n",
       "      <td>30.4</td>\n",
       "      <td>0.315</td>\n",
       "      <td>23</td>\n",
       "      <td>0</td>\n",
       "    </tr>\n",
       "  </tbody>\n",
       "</table>\n",
       "<p>768 rows × 9 columns</p>\n",
       "</div>"
      ],
      "text/plain": [
       "     Pregnancies  Glucose  BloodPressure  SkinThickness  Insulin   BMI  \\\n",
       "0              6    148.0           72.0           35.0      NaN  33.6   \n",
       "1              1     85.0           66.0           29.0      NaN  26.6   \n",
       "2              8    183.0           64.0            NaN      NaN  23.3   \n",
       "3              1     89.0           66.0           23.0     94.0  28.1   \n",
       "4              0    137.0           40.0           35.0    168.0  43.1   \n",
       "..           ...      ...            ...            ...      ...   ...   \n",
       "763           10    101.0           76.0           48.0    180.0  32.9   \n",
       "764            2    122.0           70.0           27.0      NaN  36.8   \n",
       "765            5    121.0           72.0           23.0    112.0  26.2   \n",
       "766            1    126.0           60.0            NaN      NaN  30.1   \n",
       "767            1     93.0           70.0           31.0      NaN  30.4   \n",
       "\n",
       "     DiabetesPedigreeFunction  Age  Outcome  \n",
       "0                       0.627   50        1  \n",
       "1                       0.351   31        0  \n",
       "2                       0.672   32        1  \n",
       "3                       0.167   21        0  \n",
       "4                       2.288   33        1  \n",
       "..                        ...  ...      ...  \n",
       "763                     0.171   63        0  \n",
       "764                     0.340   27        0  \n",
       "765                     0.245   30        0  \n",
       "766                     0.349   47        1  \n",
       "767                     0.315   23        0  \n",
       "\n",
       "[768 rows x 9 columns]"
      ]
     },
     "execution_count": 22,
     "metadata": {},
     "output_type": "execute_result"
    }
   ],
   "source": [
    "# show some data instances for the dataset\n",
    "pima_data"
   ]
  },
  {
   "cell_type": "code",
   "execution_count": 23,
   "metadata": {},
   "outputs": [
    {
     "name": "stdout",
     "output_type": "stream",
     "text": [
      "Number of missing Values per Feature:\n",
      "Pregnancies                   0\n",
      "Glucose                       5\n",
      "BloodPressure                35\n",
      "SkinThickness               227\n",
      "Insulin                     374\n",
      "BMI                          11\n",
      "DiabetesPedigreeFunction      0\n",
      "Age                           0\n",
      "Outcome                       0\n",
      "dtype: int64\n"
     ]
    }
   ],
   "source": [
    "# Check the statistical information for the missing values\n",
    "print('Number of missing Values per Feature:')\n",
    "print(pima_data.isnull().sum())"
   ]
  },
  {
   "cell_type": "markdown",
   "metadata": {},
   "source": [
    "**Task 6** (0.5 mark): Data pre-processing: Imputate the missing values with the feature mean values. Specifically, you can make use of the [SimpleImputer class](https://scikit-learn.org/stable/modules/impute.html#impute) to achieve this purpose."
   ]
  },
  {
   "cell_type": "code",
   "execution_count": 24,
   "metadata": {},
   "outputs": [],
   "source": [
    "# Your code here\n",
    "\n",
    "\n",
    "\n",
    "\n",
    "\n",
    "\n",
    "\n",
    "\n"
   ]
  },
  {
   "cell_type": "code",
   "execution_count": 25,
   "metadata": {},
   "outputs": [
    {
     "name": "stdout",
     "output_type": "stream",
     "text": [
      "Pregnancies                 0\n",
      "Glucose                     0\n",
      "BloodPressure               0\n",
      "SkinThickness               0\n",
      "Insulin                     0\n",
      "BMI                         0\n",
      "DiabetesPedigreeFunction    0\n",
      "Age                         0\n",
      "Outcome                     0\n",
      "dtype: int64\n"
     ]
    }
   ],
   "source": [
    "# Check if the missing values have been imputated\n",
    "print(pima_data.isnull().sum())"
   ]
  },
  {
   "cell_type": "markdown",
   "metadata": {},
   "source": [
    "Another important pre-processing step is to scale/standadize different features in order to make their contribution to a ML model equally."
   ]
  },
  {
   "cell_type": "code",
   "execution_count": 26,
   "metadata": {},
   "outputs": [
    {
     "data": {
      "text/plain": [
       "<matplotlib.axes._subplots.AxesSubplot at 0x7fe797d02110>"
      ]
     },
     "execution_count": 26,
     "metadata": {},
     "output_type": "execute_result"
    },
    {
     "data": {
      "image/png": "[encoded data removed]",
      "text/plain": [
       "<Figure size 864x576 with 1 Axes>"
      ]
     },
     "metadata": {
      "needs_background": "light"
     },
     "output_type": "display_data"
    }
   ],
   "source": [
    "# Let's study the original distribution of each feature.\n",
    "pima_data.plot(kind='box', figsize=(12, 8))"
   ]
  },
  {
   "cell_type": "markdown",
   "metadata": {},
   "source": [
    "**Task 7** (0.5 marks): It can be seen from the above plot that each feature has a quite different range from others. Use the scaler functions provided by the sklearn package to standardize the features. Specifically, use the [MinMaxScaler](https://scikit-learn.org/stable/modules/generated/sklearn.preprocessing.MinMaxScaler.html#sklearn.preprocessing.MinMaxScaler) to scale each feature to the range [0, 1]."
   ]
  },
  {
   "cell_type": "code",
   "execution_count": 27,
   "metadata": {},
   "outputs": [],
   "source": [
    "# Your code here\n",
    "\n",
    "\n",
    "\n",
    "\n",
    "\n",
    "\n",
    "\n",
    "\n"
   ]
  },
  {
   "cell_type": "code",
   "execution_count": 28,
   "metadata": {},
   "outputs": [
    {
     "data": {
      "image/png": "[encoded data removed]",
      "text/plain": [
       "<Figure size 864x576 with 1 Axes>"
      ]
     },
     "metadata": {
      "needs_background": "light"
     },
     "output_type": "display_data"
    }
   ],
   "source": [
    "# Check if all the features are standardized to [0,1]\n",
    "pima_data.plot(kind='box', figsize=(12, 8));"
   ]
  },
  {
   "cell_type": "markdown",
   "metadata": {},
   "source": [
    "After the data pre-processing, we train and test two classification models covered in our lectures, i.e., [SVM](https://scikit-learn.org/stable/modules/generated/sklearn.svm.SVC.html#sklearn.svm.SVC) and [Random Forest](https://scikit-learn.org/stable/modules/generated/sklearn.ensemble.RandomForestClassifier.html#sklearn.ensemble.RandomForestClassifier)."
   ]
  },
  {
   "cell_type": "code",
   "execution_count": 29,
   "metadata": {},
   "outputs": [],
   "source": [
    "# Specifying features and the target\n",
    "X = pima_data.drop('Outcome', axis=1)\n",
    "y = pima_data['Outcome']"
   ]
  },
  {
   "cell_type": "code",
   "execution_count": 30,
   "metadata": {},
   "outputs": [
    {
     "name": "stdout",
     "output_type": "stream",
     "text": [
      "SVC classifier accuracy: 0.7857\n",
      "\n",
      "Random Forest classifier accuracy: 0.7662\n",
      "\n"
     ]
    }
   ],
   "source": [
    "# Split the data into training and testing data\n",
    "from sklearn.metrics import accuracy_score\n",
    "X_train, X_test, y_train, y_test = train_test_split(X, y, test_size=0.2)\n",
    "\n",
    "# Train and evaluate a SVC model\n",
    "from sklearn.svm import SVC\n",
    "svc = SVC().fit(X_train, y_train)\n",
    "print('SVC classifier accuracy: %.4f\\n' % svc.score(X_test, y_test))\n",
    "\n",
    "# Train and evaluate a Random Forest classification model\n",
    "from sklearn.ensemble import RandomForestClassifier\n",
    "rfc = RandomForestClassifier().fit(X_train, y_train)\n",
    "print('Random Forest classifier accuracy: %.4f\\n' % rfc.score(X_test, y_test))"
   ]
  },
  {
   "cell_type": "markdown",
   "metadata": {},
   "source": [
    "**Task 8** (0.5): Try other performance metrics. In the evaluation of the above models, the accuracy measure is used. You are required to report other metrics like precision, recall, and f1-score, as well as confusion matrix, using the ['classification_report' class](https://scikit-learn.org/stable/modules/generated/sklearn.metrics.classification_report.html?highlight=classification_report#sklearn.metrics.classification_report) and the ['confusion_matrix' class](https://scikit-learn.org/stable/modules/generated/sklearn.metrics.confusion_matrix.html?highlight=confusion%20matrix#sklearn.metrics.confusion_matrix). An example output is provided for the expected souce code. Note that your actual output might be different from the example."
   ]
  },
  {
   "cell_type": "code",
   "execution_count": 31,
   "metadata": {},
   "outputs": [
    {
     "name": "stdout",
     "output_type": "stream",
     "text": [
      "For SVC: \n",
      "              precision    recall  f1-score   support\n",
      "\n",
      " Outcome = 0       0.79      0.92      0.85       101\n",
      " Outcome = 1       0.78      0.53      0.63        53\n",
      "\n",
      "    accuracy                           0.79       154\n",
      "   macro avg       0.78      0.72      0.74       154\n",
      "weighted avg       0.78      0.79      0.77       154\n",
      "\n",
      "Confusion matrix: \n",
      " [[93  8]\n",
      " [25 28]]\n",
      "\n",
      "\n",
      "For Random Forest: \n",
      "              precision    recall  f1-score   support\n",
      "\n",
      " Outcome = 0       0.80      0.85      0.83       101\n",
      " Outcome = 1       0.68      0.60      0.64        53\n",
      "\n",
      "    accuracy                           0.77       154\n",
      "   macro avg       0.74      0.73      0.73       154\n",
      "weighted avg       0.76      0.77      0.76       154\n",
      "\n",
      "Confusion matrix: \n",
      " [[86 15]\n",
      " [21 32]]\n"
     ]
    }
   ],
   "source": [
    "# Your code here\n",
    "\n",
    "\n",
    "\n",
    "\n",
    "\n",
    "\n",
    "\n",
    "\n"
   ]
  },
  {
   "cell_type": "markdown",
   "metadata": {},
   "source": [
    "**Task 9** (1.5 mark): As we discussed in the lecture, SVM can work with different kernels. We can use k-fold cross valiation to choose the suitable kernel for the dataset. You are required to make use [GridSearchCV](https://scikit-learn.org/stable/modules/generated/sklearn.model_selection.GridSearchCV.html#sklearn.model_selection.GridSearchCV) method  to search the best kernel for the Pima dataset. We adopt the accuracy performance metric as the score during the search. The kernels consider for the tuning are: {'linear', 'poly', 'rbf', 'sigmoid'}. We use 5-fold cross-validation in this task. What is the best kernel? What is the best score corresponding to the best kernel? You could get such information from the GridSearchCV results. An example output is provided for the expected souce code. Note that your actual output might be different from the example."
   ]
  },
  {
   "cell_type": "code",
   "execution_count": 32,
   "metadata": {},
   "outputs": [
    {
     "name": "stdout",
     "output_type": "stream",
     "text": [
      "The best kernel for SVC is: rbf\n",
      "The best score is: 0.7773\n",
      "\n"
     ]
    }
   ],
   "source": [
    "# Your code here\n",
    "\n",
    "\n",
    "\n",
    "\n",
    "\n",
    "\n",
    "\n",
    "\n"
   ]
  },
  {
   "cell_type": "markdown",
   "metadata": {},
   "source": [
    "**Task 10** (2 marks): As you know, the random forest model is a type of ensemble learning. The number of base estimator/learning is an important hyperparameter affecting the performance. In this task, you are required to study the change of classification performance with respect to the number of base estimators. Similar to the above case, use GridSearchCV to identify the best hyperparameter for 'n_estimators' in RandomForestClassifier. The value of n_estimators is limited to the range [1, 10]. So, you just need to try these 10 possible values. What is the best number of estimators? What is the corresponding score? You could get such information from the GridSearchCV results. An example output is provided for the expected souce code. Note that your actual output might be different from the example."
   ]
  },
  {
   "cell_type": "code",
   "execution_count": 36,
   "metadata": {},
   "outputs": [
    {
     "name": "stdout",
     "output_type": "stream",
     "text": [
      "The best number of base estimators: 10\n",
      "The best score is: 0.7578\n",
      "\n"
     ]
    }
   ],
   "source": [
    "# Your code here\n",
    "\n",
    "\n",
    "\n",
    "\n",
    "\n",
    "\n",
    "\n",
    "\n"
   ]
  },
  {
   "cell_type": "markdown",
   "metadata": {},
   "source": [
    "Further more, you can use the information from GridSearchCV.cv_results_ to investigate how the performnace metrics change with respect to the tuning of hyperparameters."
   ]
  },
  {
   "cell_type": "code",
   "execution_count": 37,
   "metadata": {},
   "outputs": [
    {
     "data": {
      "text/plain": [
       "{'mean_fit_time': array([0.0046, 0.0058, 0.0061, 0.0080, 0.0090, 0.0103, 0.0120, 0.0133,\n",
       "        0.0145, 0.0160]),\n",
       " 'std_fit_time': array([0.0004, 0.0007, 0.0002, 0.0006, 0.0006, 0.0004, 0.0006, 0.0009,\n",
       "        0.0003, 0.0006]),\n",
       " 'mean_score_time': array([0.0020, 0.0016, 0.0014, 0.0015, 0.0018, 0.0017, 0.0019, 0.0017,\n",
       "        0.0018, 0.0019]),\n",
       " 'std_score_time': array([0.0010, 0.0005, 0.0002, 0.0002, 0.0004, 0.0002, 0.0004, 0.0001,\n",
       "        0.0001, 0.0001]),\n",
       " 'param_n_estimators': masked_array(data=[1, 2, 3, 4, 5, 6, 7, 8, 9, 10],\n",
       "              mask=[False, False, False, False, False, False, False, False,\n",
       "                    False, False],\n",
       "        fill_value='?',\n",
       "             dtype=object),\n",
       " 'params': [{'n_estimators': 1},\n",
       "  {'n_estimators': 2},\n",
       "  {'n_estimators': 3},\n",
       "  {'n_estimators': 4},\n",
       "  {'n_estimators': 5},\n",
       "  {'n_estimators': 6},\n",
       "  {'n_estimators': 7},\n",
       "  {'n_estimators': 8},\n",
       "  {'n_estimators': 9},\n",
       "  {'n_estimators': 10}],\n",
       " 'split0_test_score': array([0.6429, 0.7078, 0.6364, 0.7143, 0.7273, 0.7597, 0.7078, 0.7273,\n",
       "        0.7013, 0.7208]),\n",
       " 'split1_test_score': array([0.6688, 0.7208, 0.7532, 0.7143, 0.7662, 0.7662, 0.7857, 0.7532,\n",
       "        0.7662, 0.7792]),\n",
       " 'split2_test_score': array([0.6948, 0.7403, 0.7662, 0.7857, 0.7922, 0.7662, 0.7662, 0.7857,\n",
       "        0.7727, 0.8312]),\n",
       " 'split3_test_score': array([0.6732, 0.6732, 0.6863, 0.6993, 0.7059, 0.7190, 0.7778, 0.7059,\n",
       "        0.7712, 0.7386]),\n",
       " 'split4_test_score': array([0.6536, 0.6732, 0.6405, 0.6732, 0.7386, 0.7386, 0.7059, 0.7190,\n",
       "        0.7059, 0.7190]),\n",
       " 'mean_test_score': array([0.6667, 0.7031, 0.6966, 0.7174, 0.7461, 0.7500, 0.7487, 0.7383,\n",
       "        0.7435, 0.7578]),\n",
       " 'std_test_score': array([0.0178, 0.0265, 0.0547, 0.0373, 0.0302, 0.0185, 0.0347, 0.0284,\n",
       "        0.0327, 0.0427]),\n",
       " 'rank_test_score': array([10,  8,  9,  7,  4,  2,  3,  6,  5,  1], dtype=int32)}"
      ]
     },
     "execution_count": 37,
     "metadata": {},
     "output_type": "execute_result"
    }
   ],
   "source": [
    "# Show the information contained in cv_results_\n",
    "\n",
    "# Your code here\n",
    "\n",
    "\n"
   ]
  },
  {
   "cell_type": "markdown",
   "metadata": {},
   "source": [
    "Particularly, you can make use of the performance score mean and std values to plot the relationship between the performance scores and the number of estimators. You can use the ['errorbar' function](https://matplotlib.org/3.1.1/api/_as_gen/matplotlib.pyplot.errorbar.html) to achieve this. A example plot is show from the expected souce code. Note that yours might be different from the example. What are the findings from the plot?"
   ]
  },
  {
   "cell_type": "code",
   "execution_count": 38,
   "metadata": {},
   "outputs": [
    {
     "data": {
      "image/png": "[encoded data removed]",
      "text/plain": [
       "<Figure size 432x288 with 1 Axes>"
      ]
     },
     "metadata": {
      "needs_background": "light"
     },
     "output_type": "display_data"
    }
   ],
   "source": [
    "# Plot the relationship beween accuracy score and the number of base estimators\n",
    "\n",
    "# Your code here\n",
    "\n",
    "\n",
    "\n",
    "\n",
    "\n",
    "\n"
   ]
  },
  {
   "cell_type": "markdown",
   "metadata": {},
   "source": [
    "**[Your observation and findings from the above plot]**:"
   ]
  },
  {
   "cell_type": "code",
   "execution_count": null,
   "metadata": {},
   "outputs": [],
   "source": []
  }
 ],
 "metadata": {
  "kernelspec": {
   "display_name": "Python 3",
   "language": "python",
   "name": "python3"
  },
  "language_info": {
   "codemirror_mode": {
    "name": "ipython",
    "version": 3
   },
   "file_extension": ".py",
   "mimetype": "text/x-python",
   "name": "python",
   "nbconvert_exporter": "python",
   "pygments_lexer": "ipython3",
   "version": "3.7.4"
  }
 },
 "nbformat": 4,
 "nbformat_minor": 2
}
